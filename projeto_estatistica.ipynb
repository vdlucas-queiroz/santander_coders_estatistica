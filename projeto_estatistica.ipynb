{
 "cells": [
  {
   "cell_type": "markdown",
   "id": "eaac08c2",
   "metadata": {},
   "source": [
    "# Projeto Estatística I - Santander Coders Data Science\n",
    "\n",
    "<pre>\n",
    "Professor: Alex Lima\n",
    "Alunos:    Bruno Henrique\n",
    "           Fernanda Beatriz Dallaqua\n",
    "           Natalia Brito\n",
    "           Vinícius D' Lucas\n",
    "</pre>           "
   ]
  },
  {
   "cell_type": "markdown",
   "id": "e58f21fc",
   "metadata": {},
   "source": [
    "# Sao Paulo housing prices\n",
    "\n",
    "O dataset escolhido para este projeto foi o Sao Paulo housing prices, [disponível](https://www.kaggle.com/datasets/renatosn/sao-paulo-housing-prices/) na plataforma Kaggle.\n",
    "\n",
    "-- descrição do dataset\n",
    "\n",
    "talvez colocar uma imagem dos bairros/distritos de SP"
   ]
  },
  {
   "cell_type": "code",
   "execution_count": 1,
   "id": "38636846",
   "metadata": {},
   "outputs": [],
   "source": [
    "# Importação das bibliotecas\n",
    "import pandas as pd\n",
    "import seaborn as sns\n",
    "import matplotlib.pyplot as plt"
   ]
  },
  {
   "cell_type": "code",
   "execution_count": 2,
   "id": "3c603a1e",
   "metadata": {},
   "outputs": [
    {
     "data": {
      "text/html": [
       "<div>\n",
       "<style scoped>\n",
       "    .dataframe tbody tr th:only-of-type {\n",
       "        vertical-align: middle;\n",
       "    }\n",
       "\n",
       "    .dataframe tbody tr th {\n",
       "        vertical-align: top;\n",
       "    }\n",
       "\n",
       "    .dataframe thead th {\n",
       "        text-align: right;\n",
       "    }\n",
       "</style>\n",
       "<table border=\"1\" class=\"dataframe\">\n",
       "  <thead>\n",
       "    <tr style=\"text-align: right;\">\n",
       "      <th></th>\n",
       "      <th>address</th>\n",
       "      <th>district</th>\n",
       "      <th>area</th>\n",
       "      <th>bedrooms</th>\n",
       "      <th>garage</th>\n",
       "      <th>type</th>\n",
       "      <th>rent</th>\n",
       "      <th>total</th>\n",
       "    </tr>\n",
       "  </thead>\n",
       "  <tbody>\n",
       "    <tr>\n",
       "      <th>0</th>\n",
       "      <td>Rua Herval</td>\n",
       "      <td>Belenzinho</td>\n",
       "      <td>21</td>\n",
       "      <td>1</td>\n",
       "      <td>0</td>\n",
       "      <td>Studio e kitnet</td>\n",
       "      <td>2400</td>\n",
       "      <td>2939</td>\n",
       "    </tr>\n",
       "    <tr>\n",
       "      <th>1</th>\n",
       "      <td>Avenida São Miguel</td>\n",
       "      <td>Vila Marieta</td>\n",
       "      <td>15</td>\n",
       "      <td>1</td>\n",
       "      <td>1</td>\n",
       "      <td>Studio e kitnet</td>\n",
       "      <td>1030</td>\n",
       "      <td>1345</td>\n",
       "    </tr>\n",
       "    <tr>\n",
       "      <th>2</th>\n",
       "      <td>Rua Oscar Freire</td>\n",
       "      <td>Pinheiros</td>\n",
       "      <td>18</td>\n",
       "      <td>1</td>\n",
       "      <td>0</td>\n",
       "      <td>Apartamento</td>\n",
       "      <td>4000</td>\n",
       "      <td>4661</td>\n",
       "    </tr>\n",
       "    <tr>\n",
       "      <th>3</th>\n",
       "      <td>Rua Júlio Sayago</td>\n",
       "      <td>Vila Ré</td>\n",
       "      <td>56</td>\n",
       "      <td>2</td>\n",
       "      <td>2</td>\n",
       "      <td>Casa em condomínio</td>\n",
       "      <td>1750</td>\n",
       "      <td>1954</td>\n",
       "    </tr>\n",
       "    <tr>\n",
       "      <th>4</th>\n",
       "      <td>Rua Barata Ribeiro</td>\n",
       "      <td>Bela Vista</td>\n",
       "      <td>19</td>\n",
       "      <td>1</td>\n",
       "      <td>0</td>\n",
       "      <td>Studio e kitnet</td>\n",
       "      <td>4000</td>\n",
       "      <td>4654</td>\n",
       "    </tr>\n",
       "  </tbody>\n",
       "</table>\n",
       "</div>"
      ],
      "text/plain": [
       "              address      district  area  bedrooms  garage  \\\n",
       "0          Rua Herval    Belenzinho    21         1       0   \n",
       "1  Avenida São Miguel  Vila Marieta    15         1       1   \n",
       "2    Rua Oscar Freire     Pinheiros    18         1       0   \n",
       "3    Rua Júlio Sayago       Vila Ré    56         2       2   \n",
       "4  Rua Barata Ribeiro    Bela Vista    19         1       0   \n",
       "\n",
       "                 type  rent  total  \n",
       "0     Studio e kitnet  2400   2939  \n",
       "1     Studio e kitnet  1030   1345  \n",
       "2         Apartamento  4000   4661  \n",
       "3  Casa em condomínio  1750   1954  \n",
       "4     Studio e kitnet  4000   4654  "
      ]
     },
     "execution_count": 2,
     "metadata": {},
     "output_type": "execute_result"
    }
   ],
   "source": [
    "df = pd.read_csv('data.csv')\n",
    "df.head()"
   ]
  },
  {
   "cell_type": "code",
   "execution_count": 4,
   "id": "f5455844",
   "metadata": {},
   "outputs": [
    {
     "name": "stdout",
     "output_type": "stream",
     "text": [
      "<class 'pandas.core.frame.DataFrame'>\n",
      "RangeIndex: 11657 entries, 0 to 11656\n",
      "Data columns (total 8 columns):\n",
      " #   Column    Non-Null Count  Dtype \n",
      "---  ------    --------------  ----- \n",
      " 0   address   11657 non-null  object\n",
      " 1   district  11657 non-null  object\n",
      " 2   area      11657 non-null  int64 \n",
      " 3   bedrooms  11657 non-null  int64 \n",
      " 4   garage    11657 non-null  int64 \n",
      " 5   type      11657 non-null  object\n",
      " 6   rent      11657 non-null  int64 \n",
      " 7   total     11657 non-null  int64 \n",
      "dtypes: int64(5), object(3)\n",
      "memory usage: 728.7+ KB\n"
     ]
    }
   ],
   "source": [
    "df.info()"
   ]
  },
  {
   "cell_type": "code",
   "execution_count": 11,
   "id": "4ebbe623",
   "metadata": {},
   "outputs": [
    {
     "name": "stdout",
     "output_type": "stream",
     "text": [
      "Número de endereços únicos no dataset: 5348\n",
      "Número de bairros únicos no dataset: 1199\n"
     ]
    }
   ],
   "source": [
    "print(f'Número de endereços únicos no dataset: {len(list(df[\"address\"].unique()))}')\n",
    "print(f'Número de bairros únicos no dataset: {len(list(df[\"district\"].unique()))}')"
   ]
  },
  {
   "cell_type": "markdown",
   "id": "28e3a0c1",
   "metadata": {},
   "source": [
    "### Quais são os top 10 bairros com mais imóveis no dataset?"
   ]
  },
  {
   "cell_type": "code",
   "execution_count": 37,
   "id": "a690fb3d",
   "metadata": {},
   "outputs": [
    {
     "data": {
      "text/html": [
       "<div>\n",
       "<style scoped>\n",
       "    .dataframe tbody tr th:only-of-type {\n",
       "        vertical-align: middle;\n",
       "    }\n",
       "\n",
       "    .dataframe tbody tr th {\n",
       "        vertical-align: top;\n",
       "    }\n",
       "\n",
       "    .dataframe thead th {\n",
       "        text-align: right;\n",
       "    }\n",
       "</style>\n",
       "<table border=\"1\" class=\"dataframe\">\n",
       "  <thead>\n",
       "    <tr style=\"text-align: right;\">\n",
       "      <th></th>\n",
       "      <th>district</th>\n",
       "      <th>address</th>\n",
       "      <th>Porcentagem</th>\n",
       "    </tr>\n",
       "  </thead>\n",
       "  <tbody>\n",
       "    <tr>\n",
       "      <th>26</th>\n",
       "      <td>Bela Vista</td>\n",
       "      <td>352</td>\n",
       "      <td>3.02</td>\n",
       "    </tr>\n",
       "    <tr>\n",
       "      <th>982</th>\n",
       "      <td>Vila Mariana</td>\n",
       "      <td>232</td>\n",
       "      <td>1.99</td>\n",
       "    </tr>\n",
       "    <tr>\n",
       "      <th>384</th>\n",
       "      <td>Jardim Paulista</td>\n",
       "      <td>220</td>\n",
       "      <td>1.89</td>\n",
       "    </tr>\n",
       "    <tr>\n",
       "      <th>67</th>\n",
       "      <td>Centro</td>\n",
       "      <td>178</td>\n",
       "      <td>1.53</td>\n",
       "    </tr>\n",
       "    <tr>\n",
       "      <th>668</th>\n",
       "      <td>Pinheiros</td>\n",
       "      <td>159</td>\n",
       "      <td>1.36</td>\n",
       "    </tr>\n",
       "    <tr>\n",
       "      <th>131</th>\n",
       "      <td>Consolação</td>\n",
       "      <td>157</td>\n",
       "      <td>1.35</td>\n",
       "    </tr>\n",
       "    <tr>\n",
       "      <th>708</th>\n",
       "      <td>Santana</td>\n",
       "      <td>152</td>\n",
       "      <td>1.30</td>\n",
       "    </tr>\n",
       "    <tr>\n",
       "      <th>563</th>\n",
       "      <td>Mooca</td>\n",
       "      <td>147</td>\n",
       "      <td>1.26</td>\n",
       "    </tr>\n",
       "    <tr>\n",
       "      <th>709</th>\n",
       "      <td>Santo Amaro</td>\n",
       "      <td>146</td>\n",
       "      <td>1.25</td>\n",
       "    </tr>\n",
       "    <tr>\n",
       "      <th>43</th>\n",
       "      <td>Brás</td>\n",
       "      <td>141</td>\n",
       "      <td>1.21</td>\n",
       "    </tr>\n",
       "    <tr>\n",
       "      <th>550</th>\n",
       "      <td>Liberdade</td>\n",
       "      <td>141</td>\n",
       "      <td>1.21</td>\n",
       "    </tr>\n",
       "    <tr>\n",
       "      <th>73</th>\n",
       "      <td>Cerqueira César</td>\n",
       "      <td>140</td>\n",
       "      <td>1.20</td>\n",
       "    </tr>\n",
       "    <tr>\n",
       "      <th>766</th>\n",
       "      <td>Vila Andrade</td>\n",
       "      <td>129</td>\n",
       "      <td>1.11</td>\n",
       "    </tr>\n",
       "    <tr>\n",
       "      <th>687</th>\n",
       "      <td>República</td>\n",
       "      <td>123</td>\n",
       "      <td>1.06</td>\n",
       "    </tr>\n",
       "    <tr>\n",
       "      <th>54</th>\n",
       "      <td>Campos Elíseos</td>\n",
       "      <td>117</td>\n",
       "      <td>1.00</td>\n",
       "    </tr>\n",
       "  </tbody>\n",
       "</table>\n",
       "</div>"
      ],
      "text/plain": [
       "            district  address  Porcentagem\n",
       "26        Bela Vista      352         3.02\n",
       "982     Vila Mariana      232         1.99\n",
       "384  Jardim Paulista      220         1.89\n",
       "67            Centro      178         1.53\n",
       "668        Pinheiros      159         1.36\n",
       "131       Consolação      157         1.35\n",
       "708          Santana      152         1.30\n",
       "563            Mooca      147         1.26\n",
       "709      Santo Amaro      146         1.25\n",
       "43              Brás      141         1.21\n",
       "550        Liberdade      141         1.21\n",
       "73   Cerqueira César      140         1.20\n",
       "766     Vila Andrade      129         1.11\n",
       "687        República      123         1.06\n",
       "54    Campos Elíseos      117         1.00"
      ]
     },
     "execution_count": 37,
     "metadata": {},
     "output_type": "execute_result"
    }
   ],
   "source": [
    "df_bairros = df.groupby(['district'],as_index=False)['address'].count().sort_values(['address'],ascending=False)\n",
    "df_bairros['Porcentagem'] = round(100 * df_bairros['address']/sum(df_bairros['address']),2)\n",
    "df_bairros.head(15)"
   ]
  },
  {
   "cell_type": "code",
   "execution_count": 81,
   "id": "b3f99098",
   "metadata": {},
   "outputs": [
    {
     "data": {
      "image/png": "[encoded data removed]",
      "text/plain": [
       "<Figure size 640x480 with 1 Axes>"
      ]
     },
     "metadata": {},
     "output_type": "display_data"
    }
   ],
   "source": [
    "df_bairros.iloc[0:15].plot(kind='bar',xlabel='Bairros',ylabel='Frequencia',use_index=False,legend=False);\n",
    "#como colocar o nome dos bairros na legenda?"
   ]
  },
  {
   "cell_type": "markdown",
   "id": "1591e55f",
   "metadata": {},
   "source": [
    "### Quantos são os tipos de imóveis pelo top 10 bairros com mais imóveis?"
   ]
  },
  {
   "cell_type": "code",
   "execution_count": 60,
   "id": "960b7d4f",
   "metadata": {},
   "outputs": [
    {
     "data": {
      "text/html": [
       "<div>\n",
       "<style scoped>\n",
       "    .dataframe tbody tr th:only-of-type {\n",
       "        vertical-align: middle;\n",
       "    }\n",
       "\n",
       "    .dataframe tbody tr th {\n",
       "        vertical-align: top;\n",
       "    }\n",
       "\n",
       "    .dataframe thead th {\n",
       "        text-align: right;\n",
       "    }\n",
       "</style>\n",
       "<table border=\"1\" class=\"dataframe\">\n",
       "  <thead>\n",
       "    <tr style=\"text-align: right;\">\n",
       "      <th></th>\n",
       "      <th>district</th>\n",
       "      <th>type</th>\n",
       "      <th>address</th>\n",
       "    </tr>\n",
       "  </thead>\n",
       "  <tbody>\n",
       "    <tr>\n",
       "      <th>0</th>\n",
       "      <td>Aclimação</td>\n",
       "      <td>Apartamento</td>\n",
       "      <td>39</td>\n",
       "    </tr>\n",
       "    <tr>\n",
       "      <th>1</th>\n",
       "      <td>Aclimação</td>\n",
       "      <td>Casa</td>\n",
       "      <td>9</td>\n",
       "    </tr>\n",
       "    <tr>\n",
       "      <th>2</th>\n",
       "      <td>Aclimação</td>\n",
       "      <td>Studio e kitnet</td>\n",
       "      <td>2</td>\n",
       "    </tr>\n",
       "    <tr>\n",
       "      <th>3</th>\n",
       "      <td>Adalgisa</td>\n",
       "      <td>Apartamento</td>\n",
       "      <td>2</td>\n",
       "    </tr>\n",
       "    <tr>\n",
       "      <th>4</th>\n",
       "      <td>Adalgisa</td>\n",
       "      <td>Casa</td>\n",
       "      <td>2</td>\n",
       "    </tr>\n",
       "  </tbody>\n",
       "</table>\n",
       "</div>"
      ],
      "text/plain": [
       "    district             type  address\n",
       "0  Aclimação      Apartamento       39\n",
       "1  Aclimação             Casa        9\n",
       "2  Aclimação  Studio e kitnet        2\n",
       "3   Adalgisa      Apartamento        2\n",
       "4   Adalgisa             Casa        2"
      ]
     },
     "execution_count": 60,
     "metadata": {},
     "output_type": "execute_result"
    }
   ],
   "source": [
    "df_bairros_imoveis = df.groupby(['district','type'],as_index=False)['address'].count()\n",
    "df_bairros_imoveis.head()\n",
    "#como fazer sort pelos grupos? para ter quais são os tipos de imóveis pelos bairros com mais imóveis?"
   ]
  },
  {
   "cell_type": "markdown",
   "id": "b711ed4c",
   "metadata": {},
   "source": [
    "### Quantos imóveis de cada tipo o dataset possui?"
   ]
  },
  {
   "cell_type": "code",
   "execution_count": 61,
   "id": "e1578e1b",
   "metadata": {},
   "outputs": [
    {
     "name": "stdout",
     "output_type": "stream",
     "text": [
      "Quais são os tipos de imóveis?\n",
      "['Studio e kitnet', 'Apartamento', 'Casa em condomínio', 'Casa']\n"
     ]
    }
   ],
   "source": [
    "print('Quais são os tipos de imóveis?')\n",
    "print(list(df['type'].unique()))"
   ]
  },
  {
   "cell_type": "code",
   "execution_count": 66,
   "id": "8db53c60",
   "metadata": {},
   "outputs": [
    {
     "data": {
      "text/html": [
       "<div>\n",
       "<style scoped>\n",
       "    .dataframe tbody tr th:only-of-type {\n",
       "        vertical-align: middle;\n",
       "    }\n",
       "\n",
       "    .dataframe tbody tr th {\n",
       "        vertical-align: top;\n",
       "    }\n",
       "\n",
       "    .dataframe thead th {\n",
       "        text-align: right;\n",
       "    }\n",
       "</style>\n",
       "<table border=\"1\" class=\"dataframe\">\n",
       "  <thead>\n",
       "    <tr style=\"text-align: right;\">\n",
       "      <th></th>\n",
       "      <th>type</th>\n",
       "      <th>address</th>\n",
       "      <th>Porcentagem</th>\n",
       "    </tr>\n",
       "  </thead>\n",
       "  <tbody>\n",
       "    <tr>\n",
       "      <th>0</th>\n",
       "      <td>Apartamento</td>\n",
       "      <td>7194</td>\n",
       "      <td>61.71</td>\n",
       "    </tr>\n",
       "    <tr>\n",
       "      <th>1</th>\n",
       "      <td>Casa</td>\n",
       "      <td>2841</td>\n",
       "      <td>24.37</td>\n",
       "    </tr>\n",
       "    <tr>\n",
       "      <th>3</th>\n",
       "      <td>Studio e kitnet</td>\n",
       "      <td>1381</td>\n",
       "      <td>11.85</td>\n",
       "    </tr>\n",
       "    <tr>\n",
       "      <th>2</th>\n",
       "      <td>Casa em condomínio</td>\n",
       "      <td>241</td>\n",
       "      <td>2.07</td>\n",
       "    </tr>\n",
       "  </tbody>\n",
       "</table>\n",
       "</div>"
      ],
      "text/plain": [
       "                 type  address  Porcentagem\n",
       "0         Apartamento     7194        61.71\n",
       "1                Casa     2841        24.37\n",
       "3     Studio e kitnet     1381        11.85\n",
       "2  Casa em condomínio      241         2.07"
      ]
     },
     "execution_count": 66,
     "metadata": {},
     "output_type": "execute_result"
    }
   ],
   "source": [
    "df_imoveis = df.groupby('type',as_index=False)['address'].count() \n",
    "df_imoveis['Porcentagem'] = round(100*df_imoveis['address']/sum(df_imoveis['address']),2)\n",
    "df_imoveis.sort_values('Porcentagem',ascending=False,inplace=True)\n",
    "df_imoveis.head()"
   ]
  },
  {
   "cell_type": "code",
   "execution_count": 80,
   "id": "920f09ee",
   "metadata": {},
   "outputs": [
    {
     "data": {
      "text/plain": [
       "<Axes: ylabel='Porcentagem'>"
      ]
     },
     "execution_count": 80,
     "metadata": {},
     "output_type": "execute_result"
    },
    {
     "data": {
      "image/png": "[encoded data removed]",
      "text/plain": [
       "<Figure size 640x480 with 1 Axes>"
      ]
     },
     "metadata": {},
     "output_type": "display_data"
    }
   ],
   "source": [
    "df_imoveis.plot(y='Porcentagem', x='type', kind='pie',autopct='%1.2f%%')\n",
    "#como colocar o type na legenda?"
   ]
  },
  {
   "cell_type": "code",
   "execution_count": null,
   "id": "d358af49",
   "metadata": {},
   "outputs": [],
   "source": []
  }
 ],
 "metadata": {
  "kernelspec": {
   "display_name": "Python 3 (ipykernel)",
   "language": "python",
   "name": "python3"
  },
  "language_info": {
   "codemirror_mode": {
    "name": "ipython",
    "version": 3
   },
   "file_extension": ".py",
   "mimetype": "text/x-python",
   "name": "python",
   "nbconvert_exporter": "python",
   "pygments_lexer": "ipython3",
   "version": "3.11.4"
  }
 },
 "nbformat": 4,
 "nbformat_minor": 5
}
